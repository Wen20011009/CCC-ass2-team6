{
 "cells": [
  {
   "cell_type": "code",
   "execution_count": null,
   "metadata": {},
   "outputs": [],
   "source": [
    "import couchdb\n",
    "import json\n",
    "username='group6'\n",
    "passwd = '123456'\n",
    "ip = '172.26.131.122'\n",
    "hostName='http://{}:{}@{}:5984/'.format(username, passwd, ip)\n",
    "couch = couchdb.Server(hostName)"
   ]
  },
  {
   "cell_type": "code",
   "execution_count": null,
   "metadata": {},
   "outputs": [],
   "source": [
    "def writeToCouchdb(databaseName, jsonName):\n",
    "    # Connect to CouchDB\n",
    "    # Create the database if it doesn't exist\n",
    "    if databaseName not in couch:\n",
    "        couch.create(databaseName)\n",
    "\n",
    "    # Get the database\n",
    "    db = couch[databaseName]\n",
    "\n",
    "    # Write the documents to the database\n",
    "    with open(jsonName, 'r') as f:\n",
    "        for line in f:\n",
    "            records = json.loads(line)\n",
    "            for element in records:\n",
    "                db.save(element)"
   ]
  },
  {
   "cell_type": "code",
   "execution_count": null,
   "metadata": {},
   "outputs": [],
   "source": [
    "writeToCouchdb('sudo_gcc_educationlevel', 'EducationLevel_SUDO_after cleaning.json')"
   ]
  }
 ],
 "metadata": {
  "kernelspec": {
   "display_name": "base",
   "language": "python",
   "name": "python3"
  },
  "language_info": {
   "name": "python",
   "version": "3.10.9"
  },
  "orig_nbformat": 4
 },
 "nbformat": 4,
 "nbformat_minor": 2
}
